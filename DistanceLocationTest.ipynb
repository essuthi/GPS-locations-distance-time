{
 "cells": [
  {
   "cell_type": "markdown",
   "metadata": {},
   "source": [
    "# Location Model"
   ]
  },
  {
   "cell_type": "code",
   "execution_count": 1,
   "metadata": {},
   "outputs": [],
   "source": [
    "\n",
    "class GpsLocation():\n",
    "    \" location class\"\n",
    "    \n",
    "    def __init__(self, latitude, longitude):\n",
    "        \" Construct a gps location given a latitude and a longitude\"\n",
    "        \n",
    "        self.lat = latitude\n",
    "        self.long = longitude\n",
    "        \n",
    "    # getter and setter of latitude\n",
    "    def _get_lat(self):\n",
    "        return self._lat\n",
    "    \n",
    "    \n",
    "    def _set_lat(self, lat):\n",
    "        if isinstance(lat, int) or isinstance(lat, float):\n",
    "            self._lat = float(lat)\n",
    "        else:\n",
    "            raise TypeError(\" Latitude must be number !\")\n",
    "            \n",
    "    lat = property(_get_lat, _set_lat)\n",
    "    \n",
    "    \n",
    "    # getter and setter longitude\n",
    "    def _get_long(self):\n",
    "        return self._long\n",
    "    \n",
    "    \n",
    "    def _set_long(self, long):\n",
    "        if isinstance(long, int) or isinstance(long, float):\n",
    "            self._long = float(long)\n",
    "        else:\n",
    "            raise TypeError(\" Longitude must be a number !\")\n",
    "            \n",
    "    long = property(_get_long, _set_long)\n",
    "    \n",
    "    #represent a location in printing\n",
    "    def __str__(self):\n",
    "        return f\"gps location at latitude = {self.lat}, longitude = {self.long}\"\n",
    "    \n",
    "    def __repr__(self):\n",
    "        return f\"gps location at latitude = {self.lat}, longitude = {self.long}\""
   ]
  },
  {
   "cell_type": "markdown",
   "metadata": {},
   "source": [
    "#  Model of a Pair of Locations"
   ]
  },
  {
   "cell_type": "code",
   "execution_count": 12,
   "metadata": {},
   "outputs": [],
   "source": [
    "\n",
    "class DlaPairLocations():\n",
    "    \"\"\" Distance and Travel-Time class\"\"\"\n",
    "    \n",
    "    def __init__(self, location1, location2):\n",
    "        \" construit une tondeuse en donnant ses coordonnees et son orientation\"\n",
    "        \n",
    "        self.loc1 = location1\n",
    "        self.loc2 = location2\n",
    "        \n",
    "    # getter and setter of latitude\n",
    "    def _get_loc1(self):\n",
    "        return self._loc1\n",
    "    \n",
    "    \n",
    "    def _set_loc1(self, loc1):\n",
    "        if isinstance(loc1, GpsLocation):\n",
    "            self._loc1 = loc1\n",
    "        else:\n",
    "            raise TypeError(\" Object is not a Location !\")\n",
    "            \n",
    "    loc1 = property(_get_loc1, _set_loc1)\n",
    "    \n",
    "    \n",
    "    # getter and setter longitude\n",
    "    def _get_loc2(self):\n",
    "        return self._loc2\n",
    "    \n",
    "    \n",
    "    def _set_loc2(self, loc2):\n",
    "        if isinstance(loc2, GpsLocation):\n",
    "            self._loc2 = loc2\n",
    "        else:\n",
    "            raise TypeError(\" Object is not a Location !\")\n",
    "            \n",
    "    loc2 = property(_get_loc2, _set_loc2)\n",
    "    \n",
    "    \n",
    "    # methods\n",
    "    def dla_route_cal(self, api_keyy):  # douala route calulus\n",
    "        \"\"\" fetches a bicycle distance and time between two points \"\"\"\n",
    "        \n",
    "        #verify if the API is a sting\n",
    "        if not isinstance(api_keyy, str):\n",
    "            raise TypeError(\" the API key as do be a string !\")\n",
    "        \n",
    "        \n",
    "        # importations\n",
    "        from herepy import GeocoderReverseApi, RoutingApi\n",
    "        \n",
    "        # obtain the addresses of the GPS locations\n",
    "        try:\n",
    "            geocoder_reverse_api = GeocoderReverseApi(api_key=api_keyy)\n",
    "            resp_address1 = geocoder_reverse_api.retrieve_addresses(prox=[self.loc1.lat, self.loc1.long], limit=1)\n",
    "            resp_address2 = geocoder_reverse_api.retrieve_addresses(prox=[self.loc2.lat, self.loc2.long], limit=1)\n",
    "\n",
    "            # verify if the are in the city of Douala\n",
    "            if resp_address1.as_dict()['items'][0]['address']['city'].lower() != 'douala':\n",
    "                raise Exception(f\"{self.loc2}, City name not corresponding to Douala !\")\n",
    "\n",
    "            if resp_address2.as_dict()['items'][0]['address']['city'].lower() != 'douala':\n",
    "                raise Exception(f\"{self.loc2}, City name not corresponding to Douala !\")\n",
    "\n",
    "            # fetches a bicycle route between two points \n",
    "            routing_api = RoutingApi(api_key=api_keyy)\n",
    "            resp_route = routing_api.bicycle_route(waypoint_a=[self.loc1.lat, self.loc1.long], \n",
    "                                               waypoint_b=[self.loc2.lat, self.loc2.long])\n",
    "\n",
    "            return {'distance': resp_route.response['route'][0]['summary']['distance'],\n",
    "               'travel_time': resp_route.response['route'][0]['summary']['travelTime'],\n",
    "               'base_time': resp_route.response['route'][0]['summary']['baseTime'],}\n",
    "        except herepy.error.UnauthorizedError:\n",
    "            print('invalid api key !')\n",
    "        except herepy.routing_api.NoRouteFoundError:\n",
    "            print('Route not found !')\n",
    "        except requests.exceptions.ConnectionError:\n",
    "            print('You are not connected !')"
   ]
  },
  {
   "cell_type": "markdown",
   "metadata": {},
   "source": [
    "# Final Program"
   ]
  },
  {
   "cell_type": "code",
   "execution_count": 3,
   "metadata": {},
   "outputs": [],
   "source": [
    "\n",
    "def final_programme(locat1, locat2, here_api_key):\n",
    "    from time import sleep\n",
    "    \n",
    "    while True:\n",
    "        pairLocs = DlaPairLocations(location1=locat1, location2=locat2)\n",
    "        print(pairLocs.dla_route_cal(api_keyy=here_api_key))\n",
    "    \n",
    "        # wait for 20 minutes\n",
    "        sleep(1200)"
   ]
  },
  {
   "cell_type": "markdown",
   "metadata": {},
   "source": [
    "# Execution"
   ]
  },
  {
   "cell_type": "code",
   "execution_count": null,
   "metadata": {},
   "outputs": [
    {
     "name": "stdout",
     "output_type": "stream",
     "text": [
      "{'distance': 4152, 'travel_time': 1239, 'base_time': 1239}\n"
     ]
    }
   ],
   "source": [
    "final_programme(locat1 = GpsLocation(latitude=4.052460, longitude=9.696301),\n",
    "                locat2 = GpsLocation(latitude=4.056741, longitude=9.721549),\n",
    "               here_api_key='YFsO5S_Vq13eW2ctRTdUARtOXX0LSiuJtkLvRehruiA') # Akwa and Bepanda locations"
   ]
  },
  {
   "cell_type": "markdown",
   "metadata": {},
   "source": [
    "# Tests"
   ]
  },
  {
   "cell_type": "code",
   "execution_count": 17,
   "metadata": {},
   "outputs": [
    {
     "name": "stderr",
     "output_type": "stream",
     "text": [
      "test_api_key_type (__main__.TestDlaPairLocations) ... ok\n",
      "test_dla_city_location (__main__.TestDlaPairLocations) ... ok\n",
      "test_input_location_type (__main__.TestDlaPairLocations) ... ok\n",
      "test_input_latitude_longitude_type (__main__.TestGpsLocations) ... ok\n",
      "\n",
      "----------------------------------------------------------------------\n",
      "Ran 4 tests in 6.422s\n",
      "\n",
      "OK\n"
     ]
    },
    {
     "data": {
      "text/plain": [
       "<unittest.main.TestProgram at 0x7ff8e6c24450>"
      ]
     },
     "execution_count": 17,
     "metadata": {},
     "output_type": "execute_result"
    }
   ],
   "source": [
    "import unittest\n",
    "import herepy\n",
    "import requests\n",
    "\n",
    "# GpsLocation class tests\n",
    "class TestGpsLocations(unittest.TestCase):\n",
    "    \n",
    "    def test_input_latitude_longitude_type(self):\n",
    "        loc = GpsLocation(4.052460,9.696301)\n",
    "        \n",
    "        self.assertEqual([loc.lat, loc.long], [4.052460, 9.696301])\n",
    "        \n",
    "        with self.assertRaises(TypeError):\n",
    "            GpsLocation(1,'lion')\n",
    "        with self.assertRaises(TypeError):\n",
    "            GpsLocation('lion', 1)     \n",
    "            \n",
    "\n",
    "            \n",
    "# DlaPairLocations test\n",
    "class TestDlaPairLocations(unittest.TestCase):\n",
    "    \n",
    "    def test_input_location_type(self):\n",
    "        pairLocs = DlaPairLocations(GpsLocation(4.052460,9.696301),GpsLocation(4.056741,9.721549))\n",
    "    \n",
    "        self.assertEqual([[pairLocs.loc1.lat, pairLocs.loc1.long], [pairLocs.loc2.lat, pairLocs.loc2.long]],\n",
    "                          [[4.052460, 9.696301], [4.056741, 9.721549]])\n",
    "        \n",
    "        with self.assertRaises(TypeError):\n",
    "            DlaPairLocations(1,1)\n",
    "        with self.assertRaises(TypeError):\n",
    "            DlaPairLocations(1,'lion')\n",
    "        with self.assertRaises(TypeError):\n",
    "            DlaPairLocations(GpsLocation(4.052460,9.696301),1)\n",
    "        with self.assertRaises(TypeError):\n",
    "            DlaPairLocations('lion', GpsLocation(4.052460,9.696301))\n",
    "    \n",
    "    def test_api_key_type(self):\n",
    "        pairLocs = DlaPairLocations(GpsLocation(4.052460,9.696301),GpsLocation(4.056741,9.721549))\n",
    "        \n",
    "        with self.assertRaises(TypeError):\n",
    "            pairLocs.dla_route_cal(1)\n",
    "    \n",
    "    def test_dla_city_locations(self):\n",
    "        # GpsLocation(-8.916955,13.187748) -> guinea-malabo-talatona GPS location\n",
    "        pairLocs1 = DlaPairLocations(GpsLocation(4.052460,9.696301),GpsLocation(-8.916955,13.187748))\n",
    "        pairLocs2 = DlaPairLocations(GpsLocation(-8.916955,13.187748), GpsLocation(4.052460,9.696301))\n",
    "        \n",
    "        pairLocs = DlaPairLocations(GpsLocation(4.052460,9.696301),GpsLocation(4.056741,9.721549))\n",
    "        \n",
    "        with self.assertRaises(Exception):\n",
    "            pairLocs1.dla_route_cal(api_keyy='YFsO5S_Vq13eW2ctRTdUARtOXX0LSiuJtkLvRehruiA')\n",
    "        with self.assertRaises(Exception):\n",
    "            pairLocs2.dla_route_cal(api_keyy='YFsO5S_Vq13eW2ctRTdUARtOXX0LSiuJtkLvRehruiA')\n",
    "            \n",
    "        \n",
    "unittest.main(argv=[''], verbosity=2, exit=False)"
   ]
  },
  {
   "cell_type": "code",
   "execution_count": null,
   "metadata": {},
   "outputs": [],
   "source": []
  },
  {
   "cell_type": "code",
   "execution_count": null,
   "metadata": {},
   "outputs": [],
   "source": []
  }
 ],
 "metadata": {
  "kernelspec": {
   "display_name": "Python 3",
   "language": "python",
   "name": "python3"
  },
  "language_info": {
   "codemirror_mode": {
    "name": "ipython",
    "version": 3
   },
   "file_extension": ".py",
   "mimetype": "text/x-python",
   "name": "python",
   "nbconvert_exporter": "python",
   "pygments_lexer": "ipython3",
   "version": "3.7.4"
  }
 },
 "nbformat": 4,
 "nbformat_minor": 2
}
