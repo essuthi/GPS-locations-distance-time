{
 "cells": [
  {
   "cell_type": "code",
   "execution_count": 88,
   "metadata": {},
   "outputs": [
    {
     "name": "stdout",
     "output_type": "stream",
     "text": [
      "{'response': {'metaInfo': {'timestamp': '2020-11-28T16:49:43Z', 'mapVersion': '8.30.114.155', 'moduleVersion': '7.2.202047-8134', 'interfaceVersion': '2.6.76', 'availableMapVersion': ['8.30.114.155']}, 'route': [{'waypoint': [{'linkId': '-1230414527', 'mappedPosition': {'latitude': 41.9797859, 'longitude': -87.8790879}, 'originalPosition': {'latitude': 41.9798, 'longitude': -87.8801}, 'type': 'stopOver', 'spot': 0.5079365, 'sideOfStreet': 'right', 'mappedRoadName': 'Mannheim Rd', 'label': 'Mannheim Rd - US-12', 'shapeIndex': 0, 'source': 'user'}, {'linkId': '+924115108', 'mappedPosition': {'latitude': 41.90413, 'longitude': -87.9223502}, 'originalPosition': {'latitude': 41.9043, 'longitude': -87.9216001}, 'type': 'stopOver', 'spot': 0.1925926, 'sideOfStreet': 'right', 'mappedRoadName': '', 'label': '', 'shapeIndex': 87, 'source': 'user'}], 'mode': {'type': 'fastest', 'transportModes': ['bicycle'], 'trafficMode': 'disabled', 'feature': []}, 'leg': [{'start': {'linkId': '-1230414527', 'mappedPosition': {'latitude': 41.9797859, 'longitude': -87.8790879}, 'originalPosition': {'latitude': 41.9798, 'longitude': -87.8801}, 'type': 'stopOver', 'spot': 0.5079365, 'sideOfStreet': 'right', 'mappedRoadName': 'Mannheim Rd', 'label': 'Mannheim Rd - US-12', 'shapeIndex': 0, 'source': 'user'}, 'end': {'linkId': '+924115108', 'mappedPosition': {'latitude': 41.90413, 'longitude': -87.9223502}, 'originalPosition': {'latitude': 41.9043, 'longitude': -87.9216001}, 'type': 'stopOver', 'spot': 0.1925926, 'sideOfStreet': 'right', 'mappedRoadName': '', 'label': '', 'shapeIndex': 87, 'source': 'user'}, 'length': 12685, 'travelTime': 3433, 'maneuver': [{'position': {'latitude': 41.9797859, 'longitude': -87.8790879}, 'instruction': 'Head <span class=\"heading\">south</span> on <span class=\"street\">Mannheim Rd</span> <span class=\"number\">(US-12/US-45)</span>. <span class=\"distance-description\">Go for <span class=\"length\">2.6 km</span>.</span>', 'travelTime': 649, 'length': 2648, 'id': 'M1', '_type': 'PrivateTransportManeuverType'}, {'position': {'latitude': 41.9579244, 'longitude': -87.8838551}, 'instruction': 'Keep <span class=\"direction\">left</span> onto <span class=\"next-street\">Mannheim Rd</span> <span class=\"number\">(US-12/US-45)</span>. <span class=\"distance-description\">Go for <span class=\"length\">2.4 km</span>.</span>', 'travelTime': 676, 'length': 2427, 'id': 'M2', '_type': 'PrivateTransportManeuverType'}, {'position': {'latitude': 41.9364238, 'longitude': -87.8849387}, 'instruction': 'Turn <span class=\"direction\">right</span> onto <span class=\"next-street\">W Belmont Ave</span>. <span class=\"distance-description\">Go for <span class=\"length\">1.6 km</span>.</span>', 'travelTime': 449, 'length': 1609, 'id': 'M3', '_type': 'PrivateTransportManeuverType'}, {'position': {'latitude': 41.9360483, 'longitude': -87.9043579}, 'instruction': 'Turn <span class=\"direction\">left</span> onto <span class=\"next-street\">N Wolf Rd</span>. <span class=\"distance-description\">Go for <span class=\"length\">3.2 km</span>.</span>', 'travelTime': 867, 'length': 3210, 'id': 'M4', '_type': 'PrivateTransportManeuverType'}, {'position': {'latitude': 41.907177, 'longitude': -87.9032314}, 'instruction': 'Turn <span class=\"direction\">right</span> onto <span class=\"next-street\">W North Ave</span> <span class=\"number\">(IL-64)</span>. <span class=\"distance-description\">Go for <span class=\"length\">2.0 km</span>.</span>', 'travelTime': 577, 'length': 2032, 'id': 'M5', '_type': 'PrivateTransportManeuverType'}, {'position': {'latitude': 41.9065225, 'longitude': -87.9277039}, 'instruction': 'Turn <span class=\"direction\">left</span> onto <span class=\"next-street\">N Clinton Ave</span>. <span class=\"distance-description\">Go for <span class=\"length\">275 m</span>.</span>', 'travelTime': 78, 'length': 275, 'id': 'M6', '_type': 'PrivateTransportManeuverType'}, {'position': {'latitude': 41.9040549, 'longitude': -87.9277253}, 'instruction': 'Turn <span class=\"direction\">left</span> onto <span class=\"next-street\">E Third St</span>. <span class=\"distance-description\">Go for <span class=\"length\">249 m</span>.</span>', 'travelTime': 66, 'length': 249, 'id': 'M7', '_type': 'PrivateTransportManeuverType'}, {'position': {'latitude': 41.9040334, 'longitude': -87.9247105}, 'instruction': 'Continue on <span class=\"next-street\">N Caroline Ave</span>. <span class=\"distance-description\">Go for <span class=\"length\">96 m</span>.</span>', 'travelTime': 37, 'length': 96, 'id': 'M8', '_type': 'PrivateTransportManeuverType'}, {'position': {'latitude': 41.9038832, 'longitude': -87.9236054}, 'instruction': 'Turn <span class=\"direction\">slightly left</span>. <span class=\"distance-description\">Go for <span class=\"length\">113 m</span>.</span>', 'travelTime': 28, 'length': 113, 'id': 'M9', '_type': 'PrivateTransportManeuverType'}, {'position': {'latitude': 41.9039047, 'longitude': -87.9222536}, 'instruction': 'Turn <span class=\"direction\">left</span>. <span class=\"distance-description\">Go for <span class=\"length\">26 m</span>.</span>', 'travelTime': 6, 'length': 26, 'id': 'M10', '_type': 'PrivateTransportManeuverType'}, {'position': {'latitude': 41.90413, 'longitude': -87.9223502}, 'instruction': 'Arrive at your destination on the right.', 'travelTime': 0, 'length': 0, 'id': 'M11', '_type': 'PrivateTransportManeuverType'}]}], 'summary': {'distance': 12685, 'baseTime': 3433, 'flags': ['noThroughRoad', 'builtUpArea', 'park'], 'text': 'The trip takes <span class=\"length\">12.7 km</span> and <span class=\"time\">57 mins</span>.', 'travelTime': 3433, '_type': 'RouteSummaryType'}}], 'language': 'en-us'}, 'route_short': 'Mannheim Rd; W Belmont Ave; N Wolf Rd; W North Ave; N Clinton Ave; E Third St; N Caroline Ave'}\n"
     ]
    }
   ],
   "source": [
    "from herepy import RoutingApi, RouteMode\n",
    "\n",
    "routing_api = RoutingApi(api_key=\"YFsO5S_Vq13eW2ctRTdUARtOXX0LSiuJtkLvRehruiA\")\n",
    "\n",
    "# fetches a bicycle route between two points\n",
    "response = routing_api.bicycle_route(waypoint_a=[41.9798, -87.8801], waypoint_b=[41.9043, -87.9216])\n",
    "print(response.as_dict())"
   ]
  },
  {
   "cell_type": "code",
   "execution_count": 89,
   "metadata": {},
   "outputs": [],
   "source": [
    "r = response.as_dict()"
   ]
  },
  {
   "cell_type": "code",
   "execution_count": 90,
   "metadata": {},
   "outputs": [
    {
     "data": {
      "text/plain": [
       "dict_keys(['response', 'route_short'])"
      ]
     },
     "execution_count": 90,
     "metadata": {},
     "output_type": "execute_result"
    }
   ],
   "source": [
    "r.keys()"
   ]
  },
  {
   "cell_type": "code",
   "execution_count": 91,
   "metadata": {},
   "outputs": [
    {
     "data": {
      "text/plain": [
       "dict_keys(['metaInfo', 'route', 'language'])"
      ]
     },
     "execution_count": 91,
     "metadata": {},
     "output_type": "execute_result"
    }
   ],
   "source": [
    "r['response'].keys()"
   ]
  },
  {
   "cell_type": "code",
   "execution_count": 92,
   "metadata": {},
   "outputs": [
    {
     "data": {
      "text/plain": [
       "dict_keys(['waypoint', 'mode', 'leg', 'summary'])"
      ]
     },
     "execution_count": 92,
     "metadata": {},
     "output_type": "execute_result"
    }
   ],
   "source": [
    "r['response']['route'][0].keys()"
   ]
  },
  {
   "cell_type": "code",
   "execution_count": 93,
   "metadata": {},
   "outputs": [
    {
     "data": {
      "text/plain": [
       "{'distance': 12685,\n",
       " 'baseTime': 3433,\n",
       " 'flags': ['noThroughRoad', 'builtUpArea', 'park'],\n",
       " 'text': 'The trip takes <span class=\"length\">12.7 km</span> and <span class=\"time\">57 mins</span>.',\n",
       " 'travelTime': 3433,\n",
       " '_type': 'RouteSummaryType'}"
      ]
     },
     "execution_count": 93,
     "metadata": {},
     "output_type": "execute_result"
    }
   ],
   "source": [
    "r['response']['route'][0]['summary']"
   ]
  },
  {
   "cell_type": "code",
   "execution_count": null,
   "metadata": {},
   "outputs": [],
   "source": []
  },
  {
   "cell_type": "code",
   "execution_count": null,
   "metadata": {},
   "outputs": [],
   "source": []
  },
  {
   "cell_type": "code",
   "execution_count": 94,
   "metadata": {},
   "outputs": [
    {
     "data": {
      "text/plain": [
       "{'distance': 12685,\n",
       " 'baseTime': 3433,\n",
       " 'flags': ['noThroughRoad', 'builtUpArea', 'park'],\n",
       " 'text': 'The trip takes <span class=\"length\">12.7 km</span> and <span class=\"time\">57 mins</span>.',\n",
       " 'travelTime': 3433,\n",
       " '_type': 'RouteSummaryType'}"
      ]
     },
     "execution_count": 94,
     "metadata": {},
     "output_type": "execute_result"
    }
   ],
   "source": [
    "response.response['route'][0]['summary']"
   ]
  },
  {
   "cell_type": "code",
   "execution_count": 95,
   "metadata": {},
   "outputs": [
    {
     "data": {
      "text/plain": [
       "12685"
      ]
     },
     "execution_count": 95,
     "metadata": {},
     "output_type": "execute_result"
    }
   ],
   "source": [
    "response.response['route'][0]['summary']['distance']"
   ]
  },
  {
   "cell_type": "code",
   "execution_count": 73,
   "metadata": {},
   "outputs": [
    {
     "ename": "NoRouteFoundError",
     "evalue": "Error is NGEO_ERROR_ROUTE_NO_END_POINT",
     "output_type": "error",
     "traceback": [
      "\u001b[0;31m---------------------------------------------------------------------------\u001b[0m",
      "\u001b[0;31mNoRouteFoundError\u001b[0m                         Traceback (most recent call last)",
      "\u001b[0;32m<ipython-input-73-f2b8b4923d4f>\u001b[0m in \u001b[0;36m<module>\u001b[0;34m\u001b[0m\n\u001b[1;32m      3\u001b[0m     \u001b[0mwaypoint_a\u001b[0m\u001b[0;34m=\u001b[0m\u001b[0;34m[\u001b[0m\u001b[0;36m11.0\u001b[0m\u001b[0;34m,\u001b[0m \u001b[0;36m12.0\u001b[0m\u001b[0;34m]\u001b[0m\u001b[0;34m,\u001b[0m\u001b[0;34m\u001b[0m\u001b[0;34m\u001b[0m\u001b[0m\n\u001b[1;32m      4\u001b[0m     \u001b[0mwaypoint_b\u001b[0m\u001b[0;34m=\u001b[0m\u001b[0;34m[\u001b[0m\u001b[0;36m22.0\u001b[0m\u001b[0;34m,\u001b[0m \u001b[0;36m23.0\u001b[0m\u001b[0;34m]\u001b[0m\u001b[0;34m,\u001b[0m\u001b[0;34m\u001b[0m\u001b[0;34m\u001b[0m\u001b[0m\n\u001b[0;32m----> 5\u001b[0;31m     \u001b[0mmodes\u001b[0m\u001b[0;34m=\u001b[0m\u001b[0;34m[\u001b[0m\u001b[0mRouteMode\u001b[0m\u001b[0;34m.\u001b[0m\u001b[0mpedestrian\u001b[0m\u001b[0;34m,\u001b[0m \u001b[0mRouteMode\u001b[0m\u001b[0;34m.\u001b[0m\u001b[0mfastest\u001b[0m\u001b[0;34m]\u001b[0m\u001b[0;34m,\u001b[0m\u001b[0;34m\u001b[0m\u001b[0;34m\u001b[0m\u001b[0m\n\u001b[0m\u001b[1;32m      6\u001b[0m )\n",
      "\u001b[0;32m~/anaconda3/lib/python3.7/site-packages/herepy/routing_api.py\u001b[0m in \u001b[0;36mpedastrian_route\u001b[0;34m(self, waypoint_a, waypoint_b, modes, departure)\u001b[0m\n\u001b[1;32m    177\u001b[0m         \u001b[0;32mif\u001b[0m \u001b[0mmodes\u001b[0m \u001b[0;32mis\u001b[0m \u001b[0;32mNone\u001b[0m\u001b[0;34m:\u001b[0m\u001b[0;34m\u001b[0m\u001b[0;34m\u001b[0m\u001b[0m\n\u001b[1;32m    178\u001b[0m             \u001b[0mmodes\u001b[0m \u001b[0;34m=\u001b[0m \u001b[0;34m[\u001b[0m\u001b[0mRouteMode\u001b[0m\u001b[0;34m.\u001b[0m\u001b[0mpedestrian\u001b[0m\u001b[0;34m,\u001b[0m \u001b[0mRouteMode\u001b[0m\u001b[0;34m.\u001b[0m\u001b[0mfastest\u001b[0m\u001b[0;34m]\u001b[0m\u001b[0;34m\u001b[0m\u001b[0;34m\u001b[0m\u001b[0m\n\u001b[0;32m--> 179\u001b[0;31m         \u001b[0;32mreturn\u001b[0m \u001b[0mself\u001b[0m\u001b[0;34m.\u001b[0m\u001b[0m_route\u001b[0m\u001b[0;34m(\u001b[0m\u001b[0mwaypoint_a\u001b[0m\u001b[0;34m,\u001b[0m \u001b[0mwaypoint_b\u001b[0m\u001b[0;34m,\u001b[0m \u001b[0mmodes\u001b[0m\u001b[0;34m,\u001b[0m \u001b[0mdeparture\u001b[0m\u001b[0;34m)\u001b[0m\u001b[0;34m\u001b[0m\u001b[0;34m\u001b[0m\u001b[0m\n\u001b[0m\u001b[1;32m    180\u001b[0m \u001b[0;34m\u001b[0m\u001b[0m\n\u001b[1;32m    181\u001b[0m     def intermediate_route(\n",
      "\u001b[0;32m~/anaconda3/lib/python3.7/site-packages/herepy/routing_api.py\u001b[0m in \u001b[0;36m_route\u001b[0;34m(self, waypoint_a, waypoint_b, modes, departure, arrival)\u001b[0m\n\u001b[1;32m     74\u001b[0m             \u001b[0marrival\u001b[0m \u001b[0;34m=\u001b[0m \u001b[0mself\u001b[0m\u001b[0;34m.\u001b[0m\u001b[0m_convert_datetime_to_isoformat\u001b[0m\u001b[0;34m(\u001b[0m\u001b[0marrival\u001b[0m\u001b[0;34m)\u001b[0m\u001b[0;34m\u001b[0m\u001b[0;34m\u001b[0m\u001b[0m\n\u001b[1;32m     75\u001b[0m             \u001b[0mdata\u001b[0m\u001b[0;34m[\u001b[0m\u001b[0;34m\"arrival\"\u001b[0m\u001b[0;34m]\u001b[0m \u001b[0;34m=\u001b[0m \u001b[0marrival\u001b[0m\u001b[0;34m\u001b[0m\u001b[0;34m\u001b[0m\u001b[0m\n\u001b[0;32m---> 76\u001b[0;31m         \u001b[0mresponse\u001b[0m \u001b[0;34m=\u001b[0m \u001b[0mself\u001b[0m\u001b[0;34m.\u001b[0m\u001b[0m__get\u001b[0m\u001b[0;34m(\u001b[0m\u001b[0mself\u001b[0m\u001b[0;34m.\u001b[0m\u001b[0mURL_CALCULATE_ROUTE\u001b[0m\u001b[0;34m,\u001b[0m \u001b[0mdata\u001b[0m\u001b[0;34m,\u001b[0m \u001b[0mRoutingResponse\u001b[0m\u001b[0;34m)\u001b[0m\u001b[0;34m\u001b[0m\u001b[0;34m\u001b[0m\u001b[0m\n\u001b[0m\u001b[1;32m     77\u001b[0m         \u001b[0mroute\u001b[0m \u001b[0;34m=\u001b[0m \u001b[0mresponse\u001b[0m\u001b[0;34m.\u001b[0m\u001b[0mresponse\u001b[0m\u001b[0;34m[\u001b[0m\u001b[0;34m\"route\"\u001b[0m\u001b[0;34m]\u001b[0m\u001b[0;34m\u001b[0m\u001b[0;34m\u001b[0m\u001b[0m\n\u001b[1;32m     78\u001b[0m         \u001b[0mmaneuver\u001b[0m \u001b[0;34m=\u001b[0m \u001b[0mroute\u001b[0m\u001b[0;34m[\u001b[0m\u001b[0;36m0\u001b[0m\u001b[0;34m]\u001b[0m\u001b[0;34m[\u001b[0m\u001b[0;34m\"leg\"\u001b[0m\u001b[0;34m]\u001b[0m\u001b[0;34m[\u001b[0m\u001b[0;36m0\u001b[0m\u001b[0;34m]\u001b[0m\u001b[0;34m[\u001b[0m\u001b[0;34m\"maneuver\"\u001b[0m\u001b[0;34m]\u001b[0m\u001b[0;34m\u001b[0m\u001b[0;34m\u001b[0m\u001b[0m\n",
      "\u001b[0;32m~/anaconda3/lib/python3.7/site-packages/herepy/routing_api.py\u001b[0m in \u001b[0;36m__get\u001b[0;34m(self, base_url, data, response_cls)\u001b[0m\n\u001b[1;32m     41\u001b[0m             \u001b[0;32mreturn\u001b[0m \u001b[0mresponse_cls\u001b[0m\u001b[0;34m.\u001b[0m\u001b[0mnew_from_jsondict\u001b[0m\u001b[0;34m(\u001b[0m\u001b[0mjson_data\u001b[0m\u001b[0;34m)\u001b[0m\u001b[0;34m\u001b[0m\u001b[0;34m\u001b[0m\u001b[0m\n\u001b[1;32m     42\u001b[0m         \u001b[0;32melse\u001b[0m\u001b[0;34m:\u001b[0m\u001b[0;34m\u001b[0m\u001b[0;34m\u001b[0m\u001b[0m\n\u001b[0;32m---> 43\u001b[0;31m             \u001b[0;32mraise\u001b[0m \u001b[0merror_from_routing_service_error\u001b[0m\u001b[0;34m(\u001b[0m\u001b[0mjson_data\u001b[0m\u001b[0;34m)\u001b[0m\u001b[0;34m\u001b[0m\u001b[0;34m\u001b[0m\u001b[0m\n\u001b[0m\u001b[1;32m     44\u001b[0m \u001b[0;34m\u001b[0m\u001b[0m\n\u001b[1;32m     45\u001b[0m     \u001b[0;34m@\u001b[0m\u001b[0mclassmethod\u001b[0m\u001b[0;34m\u001b[0m\u001b[0;34m\u001b[0m\u001b[0m\n",
      "\u001b[0;31mNoRouteFoundError\u001b[0m: Error is NGEO_ERROR_ROUTE_NO_END_POINT"
     ]
    }
   ],
   "source": [
    "# fetches a pedastrian route between two points\n",
    "response = routing_api.pedastrian_route(\n",
    "    waypoint_a=[11.0, 12.0],\n",
    "    waypoint_b=[22.0, 23.0],\n",
    "    modes=[RouteMode.pedestrian, RouteMode.fastest],\n",
    ")"
   ]
  },
  {
   "cell_type": "code",
   "execution_count": 98,
   "metadata": {},
   "outputs": [
    {
     "data": {
      "text/plain": [
       "3433"
      ]
     },
     "execution_count": 98,
     "metadata": {},
     "output_type": "execute_result"
    }
   ],
   "source": [
    "response.response['route'][0]['summary']['travelTime']"
   ]
  },
  {
   "cell_type": "code",
   "execution_count": null,
   "metadata": {},
   "outputs": [],
   "source": []
  },
  {
   "cell_type": "code",
   "execution_count": null,
   "metadata": {},
   "outputs": [],
   "source": []
  },
  {
   "cell_type": "code",
   "execution_count": null,
   "metadata": {},
   "outputs": [],
   "source": []
  },
  {
   "cell_type": "code",
   "execution_count": null,
   "metadata": {},
   "outputs": [],
   "source": []
  },
  {
   "cell_type": "code",
   "execution_count": null,
   "metadata": {},
   "outputs": [],
   "source": []
  },
  {
   "cell_type": "code",
   "execution_count": 99,
   "metadata": {},
   "outputs": [
    {
     "name": "stdout",
     "output_type": "stream",
     "text": [
      "{'items': [{'title': 'Ledoux Computers', 'id': 'here:pds:place:120s0wzh-14914197ce324011b9f4be9f53d1c6b0', 'resultType': 'place', 'address': {'label': 'Ledoux Computers, Douala, Republic of Cameroon', 'countryCode': 'CMR', 'countryName': 'Republic of Cameroon', 'county': 'Douala', 'city': 'Douala'}, 'position': {'lat': 4.05217, 'lng': 9.69659}, 'access': [{'lat': 4.05217, 'lng': 9.69659}], 'distance': 46, 'categories': [{'id': '600-6500-0072', 'name': 'Consumer Electronics Store', 'primary': True}]}]}\n"
     ]
    }
   ],
   "source": [
    "from herepy import GeocoderReverseApi\n",
    "\n",
    "geocoder_reverse_api = GeocoderReverseApi(api_key=\"YFsO5S_Vq13eW2ctRTdUARtOXX0LSiuJtkLvRehruiA\")\n",
    "\n",
    "# fetches the addresses information of a point\n",
    "response1 = geocoder_reverse_api.retrieve_addresses(prox=[4.052460, 9.696301], limit=1)\n",
    "print(response1.as_dict())"
   ]
  },
  {
   "cell_type": "code",
   "execution_count": 100,
   "metadata": {},
   "outputs": [
    {
     "data": {
      "text/plain": [
       "'douala'"
      ]
     },
     "execution_count": 100,
     "metadata": {},
     "output_type": "execute_result"
    }
   ],
   "source": [
    "response1.as_dict()['items'][0]['address']['city'].lower()"
   ]
  },
  {
   "cell_type": "code",
   "execution_count": null,
   "metadata": {},
   "outputs": [],
   "source": [
    "str."
   ]
  },
  {
   "cell_type": "code",
   "execution_count": null,
   "metadata": {},
   "outputs": [],
   "source": []
  },
  {
   "cell_type": "code",
   "execution_count": null,
   "metadata": {},
   "outputs": [],
   "source": [
    "from herepy import GeocoderApi\n",
    "\n",
    "geocoder_api = GeocoderApi(api_key=\"api_key\")\n"
   ]
  }
 ],
 "metadata": {
  "kernelspec": {
   "display_name": "Python 3",
   "language": "python",
   "name": "python3"
  },
  "language_info": {
   "codemirror_mode": {
    "name": "ipython",
    "version": 3
   },
   "file_extension": ".py",
   "mimetype": "text/x-python",
   "name": "python",
   "nbconvert_exporter": "python",
   "pygments_lexer": "ipython3",
   "version": "3.7.4"
  }
 },
 "nbformat": 4,
 "nbformat_minor": 2
}
